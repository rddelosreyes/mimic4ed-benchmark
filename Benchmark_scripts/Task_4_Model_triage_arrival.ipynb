{
 "cells": [
  {
   "cell_type": "markdown",
   "metadata": {},
   "source": [
    "## Modeling for predicting hospitalization at ED triage"
   ]
  },
  {
   "cell_type": "markdown",
   "metadata": {},
   "source": [
    "Work Flow:\n",
    "1. Task-specific filter\n",
    "2. Variable selection\n",
    "3. Modeling script\n",
    "4. Performance output\n"
   ]
  },
  {
   "cell_type": "markdown",
   "metadata": {},
   "source": [
    "### Load train and test"
   ]
  },
  {
   "cell_type": "code",
   "execution_count": 1,
   "metadata": {
    "scrolled": true
   },
   "outputs": [],
   "source": [
    "import os\n",
    "import time\n",
    "import random\n",
    "# import tensorflow as tf\n",
    "import numpy as np\n",
    "import pandas as pd\n",
    "# from matplotlib import pyplot as plt\n",
    "from sklearn.preprocessing import LabelEncoder\n",
    "# from tensorflow.keras import optimizers, metrics\n",
    "# from tensorflow.keras.layers import Dense\n",
    "# from tensorflow.keras.models import load_model\n",
    "# from helpers import PlotROCCurve\n",
    "from dataset_path import output_path\n",
    "\n",
    "# path = output_path\n",
    "# output_path = os.path.join(path, \"Figure3\")\n",
    "df_train = pd.read_csv((os.path.join(output_path, 'train.csv')))\n",
    "df_test = pd.read_csv((os.path.join(output_path, 'test.csv')))\n",
    "confidence_interval = 95\n",
    "random_seed=0"
   ]
  },
  {
   "cell_type": "code",
   "execution_count": 2,
   "metadata": {},
   "outputs": [],
   "source": [
    "random.seed(random_seed)\n",
    "np.random.seed(random_seed)"
   ]
  },
  {
   "cell_type": "code",
   "execution_count": 3,
   "metadata": {},
   "outputs": [],
   "source": [
    "df_train = df_train[df_train['disposition'].isin(['HOME', 'ADMITTED'])]\n",
    "df_test = df_test[df_test['disposition'].isin(['HOME', 'ADMITTED'])]"
   ]
  },
  {
   "cell_type": "code",
   "execution_count": null,
   "metadata": {},
   "outputs": [],
   "source": [
    "pd.set_option('display.max_columns', 100)\n",
    "pd.set_option('display.max_rows', 100)\n",
    "df_train.head()"
   ]
  },
  {
   "cell_type": "markdown",
   "metadata": {},
   "source": [
    "### 1. Task-specific filter: No task-specific exclusion needed"
   ]
  },
  {
   "cell_type": "code",
   "execution_count": null,
   "metadata": {},
   "outputs": [],
   "source": [
    "print('training size =', len(df_train), ', testing size =', len(df_test))"
   ]
  },
  {
   "cell_type": "markdown",
   "metadata": {},
   "source": [
    "### 2. Variable Selection"
   ]
  },
  {
   "cell_type": "code",
   "execution_count": 6,
   "metadata": {},
   "outputs": [],
   "source": [
    "variable = [\"age\", \"gender\",\n",
    "\n",
    "            \"triage_temperature\", \"triage_heartrate\", \"triage_resprate\",\n",
    "            \"triage_o2sat\", \"triage_sbp\", \"triage_dbp\", \"triage_pain\",\n",
    "\n",
    "            \"chiefcom_chest_pain\", \"chiefcom_abdominal_pain\", \"chiefcom_headache\",\n",
    "            \"chiefcom_shortness_of_breath\", \"chiefcom_back_pain\", \"chiefcom_cough\",\n",
    "            \"chiefcom_nausea_vomiting\", \"chiefcom_fever_chills\", \"chiefcom_syncope\",\n",
    "            \"chiefcom_dizziness\"]\n",
    "\n",
    "outcome = \"triage_acuity\""
   ]
  },
  {
   "cell_type": "code",
   "execution_count": 7,
   "metadata": {},
   "outputs": [],
   "source": [
    "X_train = df_train[variable].copy()\n",
    "y_train = df_train[outcome].copy()\n",
    "X_test = df_test[variable].copy()\n",
    "y_test = df_test[outcome].copy()"
   ]
  },
  {
   "cell_type": "code",
   "execution_count": null,
   "metadata": {},
   "outputs": [],
   "source": [
    "X_train.dtypes.to_frame().T"
   ]
  },
  {
   "cell_type": "code",
   "execution_count": 9,
   "metadata": {},
   "outputs": [],
   "source": [
    "encoder = LabelEncoder()\n",
    "X_train['gender'] = encoder.fit_transform(X_train['gender'])\n",
    "X_test['gender'] = encoder.transform(X_test['gender'])"
   ]
  },
  {
   "cell_type": "code",
   "execution_count": 10,
   "metadata": {},
   "outputs": [],
   "source": [
    "# print('class ratio')\n",
    "# ratio = y_train.sum()/(~y_train).sum()\n",
    "# print('positive : negative =', ratio, ': 1')"
   ]
  },
  {
   "cell_type": "markdown",
   "metadata": {},
   "source": [
    "### 3.  Modeling script"
   ]
  },
  {
   "cell_type": "code",
   "execution_count": 11,
   "metadata": {},
   "outputs": [],
   "source": [
    "def compare_labels(true_labels, predicted_labels):\n",
    "    \"\"\"\n",
    "    Compares true labels and predicted labels.\n",
    "\n",
    "    Parameters:\n",
    "    - true_labels (array-like): Array of true labels.\n",
    "    - predicted_labels (array-like): Array of predicted labels.\n",
    "\n",
    "    Returns:\n",
    "    - result (numpy array): Array containing 0 if labels are the same,\n",
    "                            1 if the predicted label is greater than the true label,\n",
    "                            and -1 if the predicted label is less than the true label.\n",
    "    \"\"\"\n",
    "    true_labels = np.array(true_labels)\n",
    "    predicted_labels = np.array(predicted_labels)\n",
    "\n",
    "    # Initialize result array with zeros\n",
    "    result = np.zeros_like(true_labels)\n",
    "\n",
    "    # Set result values based on comparisons\n",
    "    result[predicted_labels > true_labels] = 1\n",
    "    result[predicted_labels < true_labels] = -1\n",
    "\n",
    "    return result\n"
   ]
  },
  {
   "cell_type": "code",
   "execution_count": null,
   "metadata": {},
   "outputs": [],
   "source": [
    "print(\"Logistic Regression:\")\n",
    "from sklearn.linear_model import LogisticRegression\n",
    "from sklearn.metrics import accuracy_score, roc_auc_score\n",
    "from sklearn.preprocessing import label_binarize\n",
    "\n",
    "logreg = LogisticRegression(random_state=random_seed)\n",
    "start = time.time()\n",
    "logreg.fit(X_train,y_train)\n",
    "runtime = time.time()-start\n",
    "print('Training time:', runtime, 'seconds')\n",
    "probs = logreg.predict_proba(X_test)"
   ]
  },
  {
   "cell_type": "code",
   "execution_count": null,
   "metadata": {},
   "outputs": [],
   "source": [
    "pred_label = logreg.predict(X_test)\n",
    "accuracy = accuracy_score(y_test, pred_label)\n",
    "print(f\"Model Accuracy: {accuracy}\")\n",
    "\n",
    "y_prob = logreg.predict_proba(X_test)\n",
    "# Binarize the output\n",
    "y_test_bin = label_binarize(y_test, classes=np.arange(1,6,1))\n",
    "\n",
    "# Compute the AUROC for each class and the macro-average AUROC\n",
    "auc_ovr = roc_auc_score(y_test_bin, y_prob, multi_class='ovr')\n",
    "auc_ovo = roc_auc_score(y_test_bin, y_prob, multi_class='ovo')\n",
    "\n",
    "print(f\"One-vs-Rest AUROC: {auc_ovr:.2f}\")\n",
    "print(f\"One-vs-One AUROC: {auc_ovo:.2f}\")"
   ]
  },
  {
   "cell_type": "code",
   "execution_count": 14,
   "metadata": {},
   "outputs": [],
   "source": [
    "label_hospitalization = compare_labels(y_test, pred_label)\n",
    "df_test['label_triage'] = label_hospitalization\n",
    "\n",
    "df_test.to_csv(f'{output_path}/results_triage_lr.csv', index=False)"
   ]
  },
  {
   "cell_type": "code",
   "execution_count": null,
   "metadata": {},
   "outputs": [],
   "source": [
    "print(\"RandomForest:\")\n",
    "from sklearn.ensemble import RandomForestClassifier\n",
    "\n",
    "rf = RandomForestClassifier(random_state=random_seed)\n",
    "start = time.time()\n",
    "rf.fit(X_train,y_train)\n",
    "runtime = time.time()-start\n",
    "print('Training time:', runtime, 'seconds')\n",
    "probs = rf.predict_proba(X_test)\n",
    "importances = rf.feature_importances_\n",
    "print(importances)"
   ]
  },
  {
   "cell_type": "code",
   "execution_count": null,
   "metadata": {},
   "outputs": [],
   "source": [
    "pred_label = rf.predict(X_test)\n",
    "accuracy = accuracy_score(y_test, pred_label)\n",
    "print(f\"Model Accuracy: {accuracy}\")\n",
    "\n",
    "y_prob = rf.predict_proba(X_test)\n",
    "# Binarize the output\n",
    "y_test_bin = label_binarize(y_test, classes=np.arange(1,6,1))\n",
    "\n",
    "# Compute the AUROC for each class and the macro-average AUROC\n",
    "auc_ovr = roc_auc_score(y_test_bin, y_prob, multi_class='ovr')\n",
    "auc_ovo = roc_auc_score(y_test_bin, y_prob, multi_class='ovo')\n",
    "\n",
    "print(f\"One-vs-Rest AUROC: {auc_ovr:.2f}\")\n",
    "print(f\"One-vs-One AUROC: {auc_ovo:.2f}\")"
   ]
  },
  {
   "cell_type": "code",
   "execution_count": 17,
   "metadata": {},
   "outputs": [],
   "source": [
    "label_hospitalization = compare_labels(y_test, pred_label)\n",
    "df_test['label_triage'] = label_hospitalization\n",
    "\n",
    "df_test.to_csv(f'{output_path}/results_triage_rf.csv', index=False)"
   ]
  },
  {
   "cell_type": "code",
   "execution_count": null,
   "metadata": {},
   "outputs": [],
   "source": [
    "print(\"GradientBoosting:\")\n",
    "from sklearn.ensemble import GradientBoostingClassifier\n",
    "\n",
    "gb = GradientBoostingClassifier(random_state=random_seed)\n",
    "start = time.time()\n",
    "gb.fit(X_train, y_train)\n",
    "runtime = time.time()-start\n",
    "print('Training time:', runtime, 'seconds')\n",
    "probs = gb.predict_proba(X_test)"
   ]
  },
  {
   "cell_type": "code",
   "execution_count": null,
   "metadata": {},
   "outputs": [],
   "source": [
    "pred_label = gb.predict(X_test)\n",
    "accuracy = accuracy_score(y_test, pred_label)\n",
    "print(f\"Model Accuracy: {accuracy}\")\n",
    "\n",
    "y_prob = gb.predict_proba(X_test)\n",
    "# Binarize the output\n",
    "y_test_bin = label_binarize(y_test, classes=np.arange(1,6,1))\n",
    "\n",
    "# Compute the AUROC for each class and the macro-average AUROC\n",
    "auc_ovr = roc_auc_score(y_test_bin, y_prob, multi_class='ovr')\n",
    "auc_ovo = roc_auc_score(y_test_bin, y_prob, multi_class='ovo')\n",
    "\n",
    "print(f\"One-vs-Rest AUROC: {auc_ovr:.2f}\")\n",
    "print(f\"One-vs-One AUROC: {auc_ovo:.2f}\")"
   ]
  },
  {
   "cell_type": "code",
   "execution_count": 20,
   "metadata": {},
   "outputs": [],
   "source": [
    "label_hospitalization = compare_labels(y_test, pred_label)\n",
    "df_test['label_triage'] = label_hospitalization\n",
    "\n",
    "df_test.to_csv(f'{output_path}/results_triage_gb.csv', index=False)"
   ]
  }
 ],
 "metadata": {
  "kernelspec": {
   "display_name": "Python 3",
   "language": "python",
   "name": "python3"
  },
  "language_info": {
   "codemirror_mode": {
    "name": "ipython",
    "version": 3
   },
   "file_extension": ".py",
   "mimetype": "text/x-python",
   "name": "python",
   "nbconvert_exporter": "python",
   "pygments_lexer": "ipython3",
   "version": "3.9.12"
  },
  "vscode": {
   "interpreter": {
    "hash": "bf17866d38f1d3bf6d821890074c0baa70450c3b4f92ba8a3f997b0030e3ab03"
   }
  }
 },
 "nbformat": 4,
 "nbformat_minor": 4
}

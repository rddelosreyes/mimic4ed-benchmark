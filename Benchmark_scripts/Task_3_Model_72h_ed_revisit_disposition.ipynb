{
 "cells": [
  {
   "cell_type": "markdown",
   "metadata": {},
   "source": [
    "## Modeling for predicting 72h ED revisit at ED discharge"
   ]
  },
  {
   "cell_type": "markdown",
   "metadata": {},
   "source": [
    "Flow:\n",
    "1. Task-specific filter\n",
    "2. Variable selection\n",
    "3. Modeling script\n",
    "4. Performance output\n"
   ]
  },
  {
   "cell_type": "markdown",
   "metadata": {},
   "source": [
    "### Load train and test"
   ]
  },
  {
   "cell_type": "code",
   "execution_count": 1,
   "metadata": {},
   "outputs": [],
   "source": [
    "import os\n",
    "import time\n",
    "import random\n",
    "# import tensorflow as tf\n",
    "import numpy as np\n",
    "import pandas as pd\n",
    "# from matplotlib import pyplot as plt\n",
    "from sklearn.preprocessing import LabelEncoder\n",
    "# from tensorflow.keras import optimizers, metrics\n",
    "# from tensorflow.keras.layers import Dense, LSTM\n",
    "# from tensorflow.keras.layers import concatenate\n",
    "# from tensorflow.keras.models import load_model\n",
    "# from helpers import PlotROCCurve, get_lstm_data_gen\n",
    "from dataset_path import output_path\n",
    "\n",
    "# path = output_path\n",
    "# output_path = os.path.join(path, \"Figure3\")\n",
    "# if not os.path.exists(output_path):\n",
    "#     os.makedirs(output_path)\n",
    "df_train = pd.read_csv((os.path.join(output_path, 'train.csv')))\n",
    "df_test = pd.read_csv((os.path.join(output_path, 'test.csv')))\n",
    "confidence_interval = 95\n",
    "random_seed = 0"
   ]
  },
  {
   "cell_type": "code",
   "execution_count": 2,
   "metadata": {},
   "outputs": [],
   "source": [
    "random.seed(random_seed)\n",
    "np.random.seed(random_seed)"
   ]
  },
  {
   "cell_type": "code",
   "execution_count": 3,
   "metadata": {},
   "outputs": [],
   "source": [
    "df_train = df_train[df_train['disposition'].isin(['HOME', 'ADMITTED'])]\n",
    "df_test = df_test[df_test['disposition'].isin(['HOME', 'ADMITTED'])]"
   ]
  },
  {
   "cell_type": "code",
   "execution_count": null,
   "metadata": {},
   "outputs": [],
   "source": [
    "pd.set_option('display.max_columns', 100)\n",
    "pd.set_option('display.max_rows', 100)\n",
    "df_train.head()"
   ]
  },
  {
   "cell_type": "markdown",
   "metadata": {},
   "source": [
    "### 1. task-specific filter: exclude hospitalized cases for train and test"
   ]
  },
  {
   "cell_type": "code",
   "execution_count": null,
   "metadata": {},
   "outputs": [],
   "source": [
    "print('Before filtering: training size =', len(df_train), ', testing size =', len(df_test))\n",
    "df_train = df_train[(df_train['outcome_hospitalization'] == False)]\n",
    "df_test = df_test[(df_test['outcome_hospitalization'] == False)]#.reset_index()\n",
    "print('After filtering: training size =', len(df_train), ', testing size =', len(df_test))"
   ]
  },
  {
   "cell_type": "markdown",
   "metadata": {},
   "source": [
    "### 2. Variable Selection"
   ]
  },
  {
   "cell_type": "code",
   "execution_count": 6,
   "metadata": {},
   "outputs": [],
   "source": [
    "variable = [\"age\", \"gender\",\n",
    "\n",
    "            \"n_ed_30d\", \"n_ed_90d\", \"n_ed_365d\", \"n_hosp_30d\", \"n_hosp_90d\",\n",
    "            \"n_hosp_365d\", \"n_icu_30d\", \"n_icu_90d\", \"n_icu_365d\",\n",
    "\n",
    "            \"triage_pain\", \"triage_acuity\",\n",
    "\n",
    "            \"chiefcom_chest_pain\", \"chiefcom_abdominal_pain\", \"chiefcom_headache\",\n",
    "            \"chiefcom_shortness_of_breath\", \"chiefcom_back_pain\", \"chiefcom_cough\",\n",
    "            \"chiefcom_nausea_vomiting\", \"chiefcom_fever_chills\", \"chiefcom_syncope\",\n",
    "            \"chiefcom_dizziness\",\n",
    "\n",
    "            \"cci_MI\", \"cci_CHF\", \"cci_PVD\", \"cci_Stroke\", \"cci_Dementia\", \"cci_Pulmonary\",\n",
    "            \"cci_Rheumatic\", \"cci_PUD\", \"cci_Liver1\", \"cci_DM1\", \"cci_DM2\",\n",
    "            \"cci_Paralysis\", \"cci_Renal\", \"cci_Cancer1\", \"cci_Liver2\", \"cci_Cancer2\",\n",
    "            \"cci_HIV\",\n",
    "\n",
    "            \"eci_Arrhythmia\", \"eci_Valvular\", \"eci_PHTN\",  \"eci_HTN1\", \"eci_HTN2\",\n",
    "            \"eci_NeuroOther\", \"eci_Hypothyroid\", \"eci_Lymphoma\", \"eci_Coagulopathy\",\n",
    "            \"eci_Obesity\", \"eci_WeightLoss\", \"eci_FluidsLytes\", \"eci_BloodLoss\",\n",
    "            \"eci_Anemia\", \"eci_Alcohol\", \"eci_Drugs\", \"eci_Psychoses\", \"eci_Depression\",\n",
    "\n",
    "            \"ed_temperature_last\", \"ed_heartrate_last\", \"ed_resprate_last\",\n",
    "            \"ed_o2sat_last\", \"ed_sbp_last\", \"ed_dbp_last\", \"ed_los_hours\", \"n_med\", \"n_medrecon\"]\n",
    "\n",
    "outcome = \"outcome_ed_revisit_3d\""
   ]
  },
  {
   "cell_type": "code",
   "execution_count": 7,
   "metadata": {},
   "outputs": [],
   "source": [
    "X_train = df_train[variable].copy()\n",
    "y_train = df_train[outcome].copy()\n",
    "X_test = df_test[variable].copy()\n",
    "y_test = df_test[outcome].copy()"
   ]
  },
  {
   "cell_type": "code",
   "execution_count": null,
   "metadata": {},
   "outputs": [],
   "source": [
    "X_train.dtypes.to_frame().T"
   ]
  },
  {
   "cell_type": "code",
   "execution_count": 9,
   "metadata": {},
   "outputs": [],
   "source": [
    "encoder = LabelEncoder()\n",
    "X_train['gender'] = encoder.fit_transform(X_train['gender'])\n",
    "X_test['gender'] = encoder.transform(X_test['gender'])"
   ]
  },
  {
   "cell_type": "code",
   "execution_count": null,
   "metadata": {},
   "outputs": [],
   "source": [
    "print('class ratio')\n",
    "ratio = y_train.sum()/(~y_train).sum()\n",
    "print('positive : negative =', ratio, ': 1')"
   ]
  },
  {
   "cell_type": "markdown",
   "metadata": {},
   "source": [
    "### 3.  Modeling script"
   ]
  },
  {
   "cell_type": "code",
   "execution_count": 11,
   "metadata": {},
   "outputs": [],
   "source": [
    "def compare_labels(true_labels, predicted_labels):\n",
    "    \"\"\"\n",
    "    Compares true labels and predicted labels.\n",
    "\n",
    "    Parameters:\n",
    "    - true_labels (array-like): Array of true labels.\n",
    "    - predicted_labels (array-like): Array of predicted labels.\n",
    "\n",
    "    Returns:\n",
    "    - result (numpy array): Array containing 0 if labels are the same,\n",
    "                            1 if the predicted label is greater than the true label,\n",
    "                            and -1 if the predicted label is less than the true label.\n",
    "    \"\"\"\n",
    "    results = []\n",
    "    for true_label, predicted_label in zip(true_labels, predicted_labels):\n",
    "        if true_label == 0 and predicted_label == 0:\n",
    "            results.append(1)\n",
    "        elif true_label == 0 and predicted_label == 1:\n",
    "            results.append(2)\n",
    "        elif true_label == 1 and predicted_label == 0:\n",
    "            results.append(3)\n",
    "        elif true_label == 1 and predicted_label == 1:\n",
    "            results.append(4)\n",
    "        else:\n",
    "            raise ValueError(\"Labels must be either 0 or 1.\")\n",
    "    return results\n"
   ]
  },
  {
   "cell_type": "code",
   "execution_count": null,
   "metadata": {},
   "outputs": [],
   "source": [
    "print(\"Logistic Regression:\")\n",
    "from sklearn.linear_model import LogisticRegression\n",
    "from sklearn.metrics import accuracy_score, roc_auc_score\n",
    "\n",
    "logreg = LogisticRegression(random_state=random_seed)\n",
    "start = time.time()\n",
    "logreg.fit(X_train,y_train)\n",
    "runtime = time.time()-start\n",
    "print('Training time:', runtime, 'seconds')\n",
    "probs = logreg.predict_proba(X_test)"
   ]
  },
  {
   "cell_type": "code",
   "execution_count": null,
   "metadata": {},
   "outputs": [],
   "source": [
    "pred_label = logreg.predict(X_test)\n",
    "accuracy = accuracy_score(y_test, pred_label)\n",
    "print(f\"Model Accuracy: {accuracy}\")\n",
    "\n",
    "y_prob = logreg.predict_proba(X_test)\n",
    "roc_auc = roc_auc_score(y_test, y_prob[:,1])\n",
    "print(f\"AUROC: {roc_auc:.3f}\")"
   ]
  },
  {
   "cell_type": "code",
   "execution_count": 14,
   "metadata": {},
   "outputs": [],
   "source": [
    "label_hospitalization = compare_labels(y_test, pred_label)\n",
    "df_test['label_revisit'] = label_hospitalization\n",
    "\n",
    "df_test.to_csv(f'{output_path}/results_revisit_lr.csv', index=False)"
   ]
  },
  {
   "cell_type": "code",
   "execution_count": null,
   "metadata": {},
   "outputs": [],
   "source": [
    "print(\"RandomForest:\")\n",
    "from sklearn.ensemble import RandomForestClassifier\n",
    "\n",
    "rf = RandomForestClassifier(random_state=random_seed)\n",
    "start = time.time()\n",
    "rf.fit(X_train,y_train)\n",
    "runtime = time.time()-start\n",
    "print('Training time:', runtime, 'seconds')\n",
    "probs = rf.predict_proba(X_test)\n",
    "importances = rf.feature_importances_\n",
    "print(importances)"
   ]
  },
  {
   "cell_type": "code",
   "execution_count": null,
   "metadata": {},
   "outputs": [],
   "source": [
    "pred_label = rf.predict(X_test)\n",
    "accuracy = accuracy_score(y_test, pred_label)\n",
    "print(f\"Model Accuracy: {accuracy}\")\n",
    "\n",
    "y_prob = rf.predict_proba(X_test)\n",
    "roc_auc = roc_auc_score(y_test, y_prob[:,1])\n",
    "print(f\"AUROC: {roc_auc:.3f}\")"
   ]
  },
  {
   "cell_type": "code",
   "execution_count": 17,
   "metadata": {},
   "outputs": [],
   "source": [
    "label_hospitalization = compare_labels(y_test, pred_label)\n",
    "df_test['label_revisit'] = label_hospitalization\n",
    "\n",
    "df_test.to_csv(f'{output_path}/results_revisit_rf.csv', index=False)"
   ]
  },
  {
   "cell_type": "code",
   "execution_count": null,
   "metadata": {},
   "outputs": [],
   "source": [
    "print(\"GradientBoosting:\")\n",
    "from sklearn.ensemble import GradientBoostingClassifier\n",
    "\n",
    "gb = GradientBoostingClassifier(random_state=random_seed)\n",
    "start = time.time()\n",
    "gb.fit(X_train, y_train)\n",
    "runtime = time.time()-start\n",
    "print('Training time:', runtime, 'seconds')\n",
    "probs = gb.predict_proba(X_test)"
   ]
  },
  {
   "cell_type": "code",
   "execution_count": null,
   "metadata": {},
   "outputs": [],
   "source": [
    "pred_label = gb.predict(X_test)\n",
    "accuracy = accuracy_score(y_test, pred_label)\n",
    "print(f\"Model Accuracy: {accuracy}\")\n",
    "\n",
    "y_prob = gb.predict_proba(X_test)\n",
    "roc_auc = roc_auc_score(y_test, y_prob[:,1])\n",
    "print(f\"AUROC: {roc_auc:.3f}\")"
   ]
  },
  {
   "cell_type": "code",
   "execution_count": 20,
   "metadata": {},
   "outputs": [],
   "source": [
    "label_hospitalization = compare_labels(y_test, pred_label)\n",
    "df_test['label_revisit'] = label_hospitalization\n",
    "\n",
    "df_test.to_csv(f'{output_path}/results_revisit_gb.csv', index=False)"
   ]
  }
 ],
 "metadata": {
  "kernelspec": {
   "display_name": "Python 3.10.4 ('mimic-ed')",
   "language": "python",
   "name": "python3"
  },
  "language_info": {
   "codemirror_mode": {
    "name": "ipython",
    "version": 3
   },
   "file_extension": ".py",
   "mimetype": "text/x-python",
   "name": "python",
   "nbconvert_exporter": "python",
   "pygments_lexer": "ipython3",
   "version": "3.9.12"
  },
  "vscode": {
   "interpreter": {
    "hash": "bf17866d38f1d3bf6d821890074c0baa70450c3b4f92ba8a3f997b0030e3ab03"
   }
  }
 },
 "nbformat": 4,
 "nbformat_minor": 4
}

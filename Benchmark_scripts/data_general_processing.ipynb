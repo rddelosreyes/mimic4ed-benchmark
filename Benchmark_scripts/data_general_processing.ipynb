{
 "cells": [
  {
   "cell_type": "markdown",
   "metadata": {},
   "source": [
    "## General Processing"
   ]
  },
  {
   "cell_type": "markdown",
   "metadata": {},
   "source": [
    "Workflow:\n",
    "1. General filter\n",
    "2. Outliers detection\n",
    "3. Train and test set splitting\n",
    "4. Missing values imputation\n",
    "5. Add Score values\n",
    "6. Output the train and test data\n",
    "\n",
    "\n"
   ]
  },
  {
   "cell_type": "markdown",
   "metadata": {},
   "source": [
    "### Load master dataset"
   ]
  },
  {
   "cell_type": "code",
   "execution_count": 1,
   "metadata": {},
   "outputs": [],
   "source": [
    "import pandas as pd\n",
    "import os\n",
    "from helpers import *\n",
    "from sklearn.impute import SimpleImputer\n",
    "from dataset_path import output_path, mimic_iv_ed_path\n",
    "path = output_path\n",
    "df_master = pd.read_csv(os.path.join(path, 'master_dataset.csv'))"
   ]
  },
  {
   "cell_type": "markdown",
   "metadata": {},
   "source": [
    "\n"
   ]
  },
  {
   "cell_type": "code",
   "execution_count": null,
   "metadata": {},
   "outputs": [],
   "source": [
    "pd.set_option('display.max_columns', 200)\n",
    "df_master.head()"
   ]
  },
  {
   "cell_type": "markdown",
   "metadata": {},
   "source": [
    "### 1. General filter - Age, triage_acuity"
   ]
  },
  {
   "cell_type": "code",
   "execution_count": null,
   "metadata": {},
   "outputs": [],
   "source": [
    "print('Before filtering for \"age\" >= 18 : master dataset size = ', len(df_master))\n",
    "df_master = df_master[df_master['age'] >= 18]\n",
    "print('After filtering for \"age\" >= 18 : master dataset size = ', len(df_master))"
   ]
  },
  {
   "cell_type": "code",
   "execution_count": 4,
   "metadata": {},
   "outputs": [],
   "source": [
    "# na_master = df_master[df_master['triage_acuity'].isnull()]\n",
    "# len(na_master)"
   ]
  },
  {
   "cell_type": "code",
   "execution_count": null,
   "metadata": {},
   "outputs": [],
   "source": [
    "print('Before filtering for non-null \"triage_acuity\" >= 18 : master dataset size = ', len(df_master))\n",
    "df_master = df_master[df_master['triage_acuity'].notnull()]\n",
    "print('After filtering for non-null \"triage_acuity\" >= 18 : master dataset size = ', len(df_master))"
   ]
  },
  {
   "cell_type": "markdown",
   "metadata": {},
   "source": [
    "### 2. Outlier Detection "
   ]
  },
  {
   "cell_type": "code",
   "execution_count": 6,
   "metadata": {},
   "outputs": [],
   "source": [
    "# from mimic-extract\n",
    "vitals_valid_range = {\n",
    "    'temperature': {'outlier_low': 14.2, 'valid_low': 26, 'valid_high': 45, 'outlier_high':47},\n",
    "    'heartrate': {'outlier_low': 0, 'valid_low': 0, 'valid_high': 350, 'outlier_high':390},\n",
    "    'resprate': {'outlier_low': 0, 'valid_low': 0, 'valid_high': 300, 'outlier_high':330},\n",
    "    'o2sat': {'outlier_low': 0, 'valid_low': 0, 'valid_high': 100, 'outlier_high':150},\n",
    "    'sbp': {'outlier_low': 0, 'valid_low': 0, 'valid_high': 375, 'outlier_high':375},\n",
    "    'dbp': {'outlier_low': 0, 'valid_low': 0, 'valid_high': 375, 'outlier_high':375},\n",
    "    'pain': {'outlier_low': 0, 'valid_low': 0, 'valid_high': 10, 'outlier_high':10},\n",
    "    'acuity': {'outlier_low': 1, 'valid_low': 1, 'valid_high': 5, 'outlier_high':5},\n",
    "}"
   ]
  },
  {
   "cell_type": "code",
   "execution_count": 7,
   "metadata": {},
   "outputs": [],
   "source": [
    "df_master = convert_temp_to_celcius(df_master)"
   ]
  },
  {
   "cell_type": "code",
   "execution_count": null,
   "metadata": {},
   "outputs": [],
   "source": [
    "display_outliers_count(df_master, vitals_valid_range)"
   ]
  },
  {
   "cell_type": "code",
   "execution_count": 9,
   "metadata": {},
   "outputs": [],
   "source": [
    "\n",
    "df_master = remove_outliers(df_master, vitals_valid_range)\n"
   ]
  },
  {
   "cell_type": "markdown",
   "metadata": {},
   "source": [
    "### 3. Dataset Split (train:0.8, test: 0.2, use seed to fix)"
   ]
  },
  {
   "cell_type": "code",
   "execution_count": 10,
   "metadata": {},
   "outputs": [],
   "source": [
    "df_train=df_master.sample(frac=0.8,random_state=10) #random state is a seed value\n",
    "df_test=df_master.drop(df_train.index)"
   ]
  },
  {
   "cell_type": "code",
   "execution_count": null,
   "metadata": {},
   "outputs": [],
   "source": [
    "print('Training dataset size = ', len(df_train))\n",
    "print('Testing dataset size = ', len(df_test))"
   ]
  },
  {
   "cell_type": "code",
   "execution_count": null,
   "metadata": {},
   "outputs": [],
   "source": [
    "df_train.head()"
   ]
  },
  {
   "cell_type": "markdown",
   "metadata": {},
   "source": [
    "### 4. Missing Value imputation "
   ]
  },
  {
   "cell_type": "code",
   "execution_count": null,
   "metadata": {},
   "outputs": [],
   "source": [
    "df_missing_stats = df_train.isnull().sum().to_frame().T\n",
    "df_missing_stats.loc[1] = df_missing_stats.loc[0] / len(df_train)\n",
    "df_missing_stats.index = ['no. of missing values', 'percentage of missing values']\n",
    "df_missing_stats"
   ]
  },
  {
   "cell_type": "code",
   "execution_count": null,
   "metadata": {},
   "outputs": [],
   "source": [
    "vitals_cols = [col for col in df_master.columns if len(col.split('_')) > 1 and\n",
    "                                                   col.split('_')[1] in vitals_valid_range and\n",
    "                                                   col.split('_')[1] != 'acuity']\n",
    "vitals_cols"
   ]
  },
  {
   "cell_type": "code",
   "execution_count": 15,
   "metadata": {},
   "outputs": [],
   "source": [
    "imputer = SimpleImputer(strategy='median')\n",
    "df_train[vitals_cols] = imputer.fit_transform(df_train[vitals_cols])\n",
    "df_test[vitals_cols] = imputer.transform(df_test[vitals_cols])"
   ]
  },
  {
   "cell_type": "markdown",
   "metadata": {},
   "source": [
    "### 5. Add Score values"
   ]
  },
  {
   "cell_type": "code",
   "execution_count": null,
   "metadata": {},
   "outputs": [],
   "source": [
    "# test\n",
    "add_triage_MAP(df_test) # add an extra variable MAP\n",
    "add_score_CCI(df_test)\n",
    "add_score_CART(df_test)\n",
    "add_score_REMS(df_test)\n",
    "add_score_NEWS(df_test)\n",
    "add_score_NEWS2(df_test)\n",
    "add_score_MEWS(df_test)"
   ]
  },
  {
   "cell_type": "code",
   "execution_count": null,
   "metadata": {},
   "outputs": [],
   "source": [
    "# train\n",
    "add_triage_MAP(df_train) # add an extra variable MAP\n",
    "add_score_CCI(df_train)\n",
    "add_score_CART(df_train)\n",
    "add_score_REMS(df_train)\n",
    "add_score_NEWS(df_train)\n",
    "add_score_NEWS2(df_train)\n",
    "add_score_MEWS(df_train)"
   ]
  },
  {
   "cell_type": "markdown",
   "metadata": {},
   "source": [
    "### 6. Output the train and test data"
   ]
  },
  {
   "cell_type": "code",
   "execution_count": 18,
   "metadata": {},
   "outputs": [],
   "source": [
    "df_train.to_csv(os.path.join(path, 'train.csv'), index=False)\n",
    "df_test.to_csv(os.path.join(path, 'test.csv'), index=False)"
   ]
  },
  {
   "cell_type": "markdown",
   "metadata": {},
   "source": [
    "## Time series data processing"
   ]
  },
  {
   "cell_type": "code",
   "execution_count": 19,
   "metadata": {},
   "outputs": [],
   "source": [
    "#mimic_iv_ed_path = 'your_path/mimic-iv-ed-1.0/ed'\n",
    "df_vitalsign = read_vitalsign_table(os.path.join(mimic_iv_ed_path, 'ed/vitalsign.csv'))"
   ]
  },
  {
   "cell_type": "code",
   "execution_count": null,
   "metadata": {},
   "outputs": [],
   "source": [
    "df_vitalsign['charttime'] = pd.to_datetime(df_vitalsign['charttime'])\n",
    "df_vitalsign.sort_values('charttime', inplace=True)\n",
    "df_vitalsign.drop('ed_rhythm', axis=1, inplace=True)\n",
    "df_vitalsign.head()"
   ]
  },
  {
   "cell_type": "code",
   "execution_count": 21,
   "metadata": {},
   "outputs": [],
   "source": [
    "grouped = df_vitalsign.groupby('stay_id')"
   ]
  },
  {
   "cell_type": "code",
   "execution_count": null,
   "metadata": {},
   "outputs": [],
   "source": [
    "resample_freq = '1H' # 1 hour\n",
    "# resample_freq = '30T' # 30 minutes\n",
    "\n",
    "df_list = []\n",
    "counter = 0\n",
    "N = len(grouped)\n",
    "for stay_id, stay_df in grouped:\n",
    "    counter += 1\n",
    "    stay_df.set_index('charttime', inplace=True)\n",
    "    stay_df = stay_df.resample('1T', origin='start').interpolate(method='linear')\\\n",
    "                     .resample(resample_freq, origin='start').asfreq().ffill().bfill()\n",
    "    if counter % 10000 == 0 or counter == N:\n",
    "        print('%d/%d' % (counter, N), end='\\r')\n",
    "    df_list.append(stay_df)"
   ]
  },
  {
   "cell_type": "code",
   "execution_count": 23,
   "metadata": {},
   "outputs": [],
   "source": [
    "df_vitalsign_resampled = pd.concat(df_list)"
   ]
  },
  {
   "cell_type": "code",
   "execution_count": 24,
   "metadata": {},
   "outputs": [],
   "source": [
    "df_vitalsign_resampled = convert_temp_to_celcius(df_vitalsign_resampled)"
   ]
  },
  {
   "cell_type": "code",
   "execution_count": 25,
   "metadata": {},
   "outputs": [],
   "source": [
    "df_vitalsign_resampled = remove_outliers(df_vitalsign_resampled, vitals_valid_range)"
   ]
  },
  {
   "cell_type": "code",
   "execution_count": null,
   "metadata": {},
   "outputs": [],
   "source": [
    "vitals_cols = [col for col in df_vitalsign_resampled.columns if len(col.split('_')) > 1 and\n",
    "                                                                col.split('_')[1] in vitals_valid_range]\n",
    "vitals_cols"
   ]
  },
  {
   "cell_type": "code",
   "execution_count": 27,
   "metadata": {},
   "outputs": [],
   "source": [
    "imputer = SimpleImputer(strategy='median')\n",
    "df_vitalsign_resampled[vitals_cols] = imputer.fit_transform(df_vitalsign_resampled[vitals_cols])"
   ]
  },
  {
   "cell_type": "code",
   "execution_count": 28,
   "metadata": {},
   "outputs": [],
   "source": [
    "df_vitalsign_resampled.to_csv(os.path.join(output_path, 'ed_vitalsign_'+resample_freq+'_resampled.csv'))"
   ]
  },
  {
   "cell_type": "code",
   "execution_count": null,
   "metadata": {},
   "outputs": [],
   "source": []
  }
 ],
 "metadata": {
  "kernelspec": {
   "display_name": "Python 3.9.7 64-bit",
   "language": "python",
   "name": "python3"
  },
  "language_info": {
   "codemirror_mode": {
    "name": "ipython",
    "version": 3
   },
   "file_extension": ".py",
   "mimetype": "text/x-python",
   "name": "python",
   "nbconvert_exporter": "python",
   "pygments_lexer": "ipython3",
   "version": "3.9.12"
  },
  "vscode": {
   "interpreter": {
    "hash": "aee8b7b246df8f9039afb4144a1f6fd8d2ca17a180786b69acc140d282b71a49"
   }
  }
 },
 "nbformat": 4,
 "nbformat_minor": 4
}

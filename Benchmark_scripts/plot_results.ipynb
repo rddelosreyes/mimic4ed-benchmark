{
 "cells": [
  {
   "cell_type": "code",
   "execution_count": 1,
   "metadata": {},
   "outputs": [],
   "source": [
    "import numpy as np\n",
    "import pandas as pd\n",
    "\n",
    "from collections import OrderedDict\n",
    "from pysankey2 import Sankey\n",
    "from pysankey2.utils import setColorConf\n",
    "from venn import venn\n",
    "\n",
    "import seaborn as sns\n",
    "import matplotlib.pyplot as plt\n",
    "from matplotlib import rc\n",
    "rc('font',**{'family':'sans-serif','sans-serif':['Helvetica']})\n",
    "\n",
    "from dataset_path import output_path"
   ]
  },
  {
   "cell_type": "markdown",
   "metadata": {},
   "source": [
    "## Load model results"
   ]
  },
  {
   "cell_type": "code",
   "execution_count": 2,
   "metadata": {},
   "outputs": [],
   "source": [
    "model_type = 'rf'\n",
    "\n",
    "df_task1 = pd.read_csv(f'{output_path}/results_hospitalization_{model_type}.csv')\n",
    "df_task2 = pd.read_csv(f'{output_path}/results_critical_{model_type}.csv')\n",
    "df_task3 = pd.read_csv(f'{output_path}/results_revisit_{model_type}.csv', low_memory=False)\n",
    "df_task4 = pd.read_csv(f'{output_path}/results_triage_{model_type}.csv')"
   ]
  },
  {
   "cell_type": "code",
   "execution_count": 3,
   "metadata": {},
   "outputs": [],
   "source": [
    "from functools import reduce\n",
    "\n",
    "# List of DataFrames\n",
    "all_dfs = [df_task1, df_task2, df_task3, df_task4]\n",
    "\n",
    "# Merge all DataFrames in the list dfs based on 'key'\n",
    "merged_df = reduce(lambda left, right: pd.merge(left, right, how='outer'), all_dfs)\n",
    "\n",
    "# Set label_revisit from NaN to 4 (true label, true prediction) for admitted patients\n",
    "merged_df['label_revisit'] = merged_df['label_revisit'].fillna(1)"
   ]
  },
  {
   "cell_type": "code",
   "execution_count": 4,
   "metadata": {},
   "outputs": [],
   "source": [
    "mapping = {1: 'no, no', 2: 'no, yes', 3: 'yes, no', 4: 'yes, yes'}\n",
    "merged_df['label_hospitalization'] = merged_df['label_hospitalization'].replace(mapping)\n",
    "\n",
    "mapping = {1: 'no, no', 2: 'no, yes', 3: 'yes, no', 4: 'yes, yes'}\n",
    "merged_df['label_critical'] = merged_df['label_critical'].replace(mapping)\n",
    "\n",
    "mapping = {1: 'no, no', 2: 'no, yes', 3: 'yes, no', 4: 'yes, yes'}\n",
    "merged_df['label_revisit'] = merged_df['label_revisit'].replace(mapping)\n",
    "\n",
    "mapping = {-1: 'under', 0: 'correct', 1: 'over'}\n",
    "merged_df['label_triage'] = merged_df['label_triage'].replace(mapping)"
   ]
  },
  {
   "cell_type": "code",
   "execution_count": null,
   "metadata": {},
   "outputs": [],
   "source": [
    "display(merged_df.groupby('label_hospitalization').index.count() / len(df_task1))\n",
    "display(merged_df.groupby('label_critical').index.count() / len(df_task2))\n",
    "display(merged_df.groupby('label_revisit').index.count() / len(df_task3))\n",
    "display(merged_df.groupby('label_triage').index.count() / len(df_task4))"
   ]
  },
  {
   "cell_type": "code",
   "execution_count": 6,
   "metadata": {},
   "outputs": [],
   "source": [
    "results_dict = {'layer1': merged_df['label_hospitalization'].to_list(),\n",
    "                'layer2': merged_df['label_critical'].to_list(),\n",
    "                'layer3': merged_df['label_revisit'].to_list(),\n",
    "                'layer4': merged_df['label_triage'].to_list()}\n",
    "df_sankey = pd.DataFrame.from_dict(results_dict, orient='columns')"
   ]
  },
  {
   "cell_type": "code",
   "execution_count": null,
   "metadata": {},
   "outputs": [],
   "source": [
    "layer_labels= {'layer1': ['no, yes', 'yes, no', 'no, no', 'yes, yes'],\n",
    "               'layer2': ['no, yes', 'yes, no', 'no, no', 'yes, yes'],\n",
    "               'layer3': ['no, yes', 'yes, no', 'no, no', 'yes, yes'],\n",
    "               'layer4': ['under', 'over', 'correct']}\n",
    "\n",
    "layer_labels = OrderedDict(layer_labels)\n",
    "fruits = list(set(df_sankey.layer1).union(set(df_sankey.layer2).union(set(df_sankey.layer3)).union(set(df_sankey.layer4))))\n",
    "colors = setColorConf(len(fruits), colors='Accent')\n",
    "cls_map = dict(zip(fruits,colors))\n",
    "\n",
    "good_color = ['correct', 'yes, yes', 'no, no', '>4, >4', '<=4, <=4']\n",
    "new_cls_map = {}\n",
    "for key, val in cls_map.items():\n",
    "    if key in good_color:\n",
    "        new_cls_map[key] = colors[0]\n",
    "    else:\n",
    "        new_cls_map[key] = colors[1]\n",
    "\n",
    "sky_auto_global_colors = Sankey(df_sankey, colorMode=\"global\", colorDict=new_cls_map, stripColor='left', layerLabels=layer_labels)\n",
    "sky_auto_global_colors._layerLabels = layer_labels\n",
    "fig, ax = sky_auto_global_colors.plot(strip_kws={'linewidth': 0}, figSize=(8,4), fontSize=8)\n",
    "fig.dpi = 600"
   ]
  },
  {
   "cell_type": "code",
   "execution_count": null,
   "metadata": {},
   "outputs": [],
   "source": [
    "merged_df['miss_hospitalization'] = merged_df['label_hospitalization'].apply(lambda x: 0 if x in ['yes, yes', 'no, no'] else 1)\n",
    "merged_df['miss_critical'] = merged_df['label_critical'].apply(lambda x: 0 if x in ['yes, yes', 'no, no'] else 1)\n",
    "merged_df['miss_revisit'] = merged_df['label_revisit'].apply(lambda x: 0 if x in ['yes, yes', 'no, no'] else 1)\n",
    "merged_df['miss_triage'] = merged_df['label_triage'].apply(lambda x: 0 if x == 'correct' else 1)\n",
    "\n",
    "merged_df['miss_total'] = merged_df['miss_hospitalization'] + merged_df['miss_revisit'] + merged_df['miss_revisit'] + merged_df['miss_triage']\n",
    "display(merged_df.groupby('miss_total')['stay_id'].count())\n",
    "display(merged_df.groupby('miss_total')['stay_id'].count() / len(merged_df) * 100)"
   ]
  },
  {
   "cell_type": "code",
   "execution_count": null,
   "metadata": {},
   "outputs": [],
   "source": [
    "patient_grp = {\n",
    "    \"hospitalisation\": {x for x in merged_df[merged_df['miss_hospitalization'] == 1].stay_id},\n",
    "    \"critical outcomes\": {x for x in merged_df[merged_df['miss_critical'] == 1].stay_id},\n",
    "    \"72hr reattendance\": {x for x in merged_df[merged_df['miss_revisit'] == 1].stay_id},\n",
    "    \"triage\": {x for x in merged_df[merged_df['miss_triage'] == 1].stay_id},\n",
    "}\n",
    "\n",
    "cmap = ['#1f77b4', '#ff7f0e', '#2ca02c', '#9467bd']\n",
    "venn(patient_grp, legend_loc=\"upper left\", cmap=cmap)"
   ]
  },
  {
   "cell_type": "markdown",
   "metadata": {},
   "source": [
    "## Update patient characteristics"
   ]
  },
  {
   "cell_type": "code",
   "execution_count": 10,
   "metadata": {},
   "outputs": [],
   "source": [
    "# Update acuity\n",
    "merged_df['triage_acuity'] = merged_df['triage_acuity'].replace(1.0, '1')\n",
    "merged_df['triage_acuity'] = merged_df['triage_acuity'].replace(2.0, '2')\n",
    "merged_df['triage_acuity'] = merged_df['triage_acuity'].replace(3.0, '3')\n",
    "merged_df['triage_acuity'] = merged_df['triage_acuity'].replace(4.0, '4')\n",
    "merged_df['triage_acuity'] = merged_df['triage_acuity'].replace(5.0, '5')"
   ]
  },
  {
   "cell_type": "code",
   "execution_count": 11,
   "metadata": {},
   "outputs": [],
   "source": [
    "# Update gender\n",
    "merged_df['gender'] = merged_df['gender'].replace('F', 'FEMALE')\n",
    "merged_df['gender'] = merged_df['gender'].replace('M', 'MALE')"
   ]
  },
  {
   "cell_type": "code",
   "execution_count": 12,
   "metadata": {},
   "outputs": [],
   "source": [
    "# Update ethnicity\n",
    "merged_df['ethnicity'] = merged_df['ethnicity'].replace(['ASIAN',\n",
    "                                               'ASIAN - ASIAN INDIAN',\n",
    "                                               'ASIAN - CHINESE',\n",
    "                                               'ASIAN - KOREAN',\n",
    "                                               'ASIAN - SOUTH EAST ASIAN'], 'ASIAN')\n",
    "\n",
    "merged_df['ethnicity'] = merged_df['ethnicity'].replace(['BLACK/AFRICAN',\n",
    "                                               'BLACK/AFRICAN AMERICAN',\n",
    "                                               'BLACK/CAPE VERDEAN',\n",
    "                                               'BLACK/CARIBBEAN ISLAND'], 'BLACK')\n",
    "\n",
    "merged_df['ethnicity'] = merged_df['ethnicity'].replace(['HISPANIC OR LATINO',\n",
    "                                               'HISPANIC/LATINO - CENTRAL AMERICAN',\n",
    "                                               'HISPANIC/LATINO - COLUMBIAN',\n",
    "                                               'HISPANIC/LATINO - CUBAN',\n",
    "                                               'HISPANIC/LATINO - DOMINICAN',\n",
    "                                               'HISPANIC/LATINO - GUATEMALAN',\n",
    "                                               'HISPANIC/LATINO - HONDURAN',\n",
    "                                               'HISPANIC/LATINO - MEXICAN',\n",
    "                                               'HISPANIC/LATINO - PUERTO RICAN',\n",
    "                                               'HISPANIC/LATINO - SALVADORAN'], 'HISPANIC')\n",
    "\n",
    "merged_df['ethnicity'] = merged_df['ethnicity'].replace(['WHITE',\n",
    "                                               'WHITE - BRAZILIAN',\n",
    "                                               'WHITE - EASTERN EUROPEAN',\n",
    "                                               'WHITE - OTHER EUROPEAN',\n",
    "                                               'WHITE - RUSSIAN'], 'WHITE')\n",
    "\n",
    "merged_df['ethnicity'] = merged_df['ethnicity'].replace(['MULTIPLE RACE/ETHNICITY',\n",
    "                                               'NATIVE HAWAIIAN OR OTHER PACIFIC ISLANDER',\n",
    "                                               'OTHER',\n",
    "                                               'PATIENT DECLINED TO ANSWER',\n",
    "                                               'PORTUGUESE',\n",
    "                                               'SOUTH AMERICAN',\n",
    "                                               'UNABLE TO OBTAIN',\n",
    "                                               'UNKNOWN',\n",
    "                                               'AMERICAN INDIAN/ALASKA NATIVE',\n",
    "                                               np.nan], 'OTHERS')"
   ]
  },
  {
   "cell_type": "code",
   "execution_count": 13,
   "metadata": {},
   "outputs": [],
   "source": [
    "# Update age group\n",
    "\n",
    "# Define age bins and labels for 5 groups\n",
    "bins_5 = [0, 20, 40, 60, 80, 200]\n",
    "labels_5 = ['0-19', '20-39', '40-59', '60-79', '80+']\n",
    "\n",
    "# Add a new column 'AgeGroup' to the DataFrame\n",
    "merged_df['age_group'] = pd.cut(merged_df['age'], bins=bins_5, labels=labels_5, right=False)"
   ]
  },
  {
   "cell_type": "code",
   "execution_count": 14,
   "metadata": {},
   "outputs": [],
   "source": [
    "# Update CCI\n",
    "def calculate_cci(row):\n",
    "    # Define the weights for each condition\n",
    "    weights = {\n",
    "        'cci_MI': 1,\n",
    "        'cci_CHF': 1,\n",
    "        'cci_PVD': 1,\n",
    "        'cci_Stroke': 1,\n",
    "        'cci_Dementia': 1,\n",
    "        'cci_Pulmonary': 1,\n",
    "        'cci_Rheumatic': 1,\n",
    "        'cci_PUD': 1,\n",
    "        'cci_Liver1': 1,\n",
    "        'cci_DM1': 1,\n",
    "        'cci_DM2': 2,\n",
    "        'cci_Paralysis': 2,\n",
    "        'cci_Renal': 2,\n",
    "        'cci_Cancer1': 2,\n",
    "        'cci_Liver2': 3,\n",
    "        'cci_Cancer2': 6,\n",
    "        'cci_HIV': 6\n",
    "    }\n",
    "\n",
    "    # Calculate the total CCI score\n",
    "    cci_score = sum(weights[condition] for condition in weights if row[condition] == 1)\n",
    "\n",
    "    # Group the CCI score into categories\n",
    "    if cci_score == 0:\n",
    "        cci_group = 'No'\n",
    "    elif cci_score == 1 or cci_score == 2:\n",
    "        cci_group = 'Low'\n",
    "    elif cci_score == 3 or cci_score == 4:\n",
    "        cci_group = 'Moderate'\n",
    "    else:\n",
    "        cci_group = 'High'\n",
    "\n",
    "    return cci_score, cci_group\n",
    "\n",
    "conditions_list = [\"cci_MI\", \"cci_CHF\", \"cci_PVD\", \"cci_Stroke\", \"cci_Dementia\", \"cci_Pulmonary\", \"cci_Rheumatic\", \"cci_PUD\", \"cci_Liver1\", \"cci_DM1\", \"cci_DM2\", \"cci_Paralysis\", \"cci_Renal\", \"cci_Cancer1\", \"cci_Liver2\", \"cci_Cancer2\", \"cci_HIV\"]\n",
    "merged_df[['CCI_Score', 'CCI_Group']] = merged_df.apply(lambda row: pd.Series(calculate_cci(row)), axis=1)"
   ]
  },
  {
   "cell_type": "markdown",
   "metadata": {},
   "source": [
    "## Analyse patient groups"
   ]
  },
  {
   "cell_type": "markdown",
   "metadata": {},
   "source": [
    "### Distribution across demographics and clinical labels"
   ]
  },
  {
   "cell_type": "code",
   "execution_count": null,
   "metadata": {},
   "outputs": [],
   "source": [
    "palette = ['#E69F00', '#56B4E9', '#009E73', '#D55E00', '#CC79A7']\n",
    "\n",
    "for demo_type in ['triage_acuity', 'age_group', 'gender', 'ethnicity', 'CCI_Group', 'disposition']:\n",
    "    display(merged_df.groupby([demo_type, 'miss_total']).stay_id.count() / merged_df.groupby([demo_type]).stay_id.count() * 100)\n",
    "\n",
    "    fig, ax = plt.subplots(1, 1, figsize=(4,0.3*len(set(merged_df[demo_type]))))\n",
    "    fig.dpi = 600\n",
    "    ax = sns.histplot(data=merged_df.sort_values(demo_type), y=demo_type, hue='miss_total', hue_order=[4, 3, 2, 1, 0], stat='percent', multiple='fill', shrink=0.8, alpha=0.5, palette=palette)\n",
    "    sns.move_legend(\n",
    "        ax, 'upper left',\n",
    "        bbox_to_anchor=(1, 1.05), ncol=1, title='Misprediction count', frameon=False, columnspacing=0.9, handlelength=0.8, handletextpad=0.5, reverse=True\n",
    "    )\n",
    "    plt.ylabel(demo_type)\n",
    "    # ax.set_yticks([0, 1, 2, 3, 4])\n",
    "    plt.xlabel('Percentage')\n",
    "    ax.set_xticks([0, 0.2, 0.4, 0.6, 0.8, 1])\n",
    "    ax.set_xticklabels(['0', '20', '40', '60', '80', '100'])\n",
    "    plt.show()\n"
   ]
  },
  {
   "cell_type": "markdown",
   "metadata": {},
   "source": [
    "### Quality of care"
   ]
  },
  {
   "cell_type": "code",
   "execution_count": null,
   "metadata": {},
   "outputs": [],
   "source": [
    "fig, ax = plt.subplots(1, 1, figsize=(3,3))\n",
    "fig.dpi = 600\n",
    "\n",
    "palette = ['#E69F00', '#56B4E9', '#009E73', '#D55E00', '#CC79A7']\n",
    "for idx, disp_type in enumerate([False, True]):\n",
    "    df_group = merged_df[merged_df['outcome_hospitalization'] == disp_type].copy()\n",
    "\n",
    "    # Calculate relative median los per patient group\n",
    "    median_los_per_group = df_group[df_group['miss_total'] == 0]['ed_los_hours'].median()\n",
    "    df_group['rel_los'] = df_group['ed_los_hours'] - median_los_per_group\n",
    "\n",
    "    grouped = df_group.groupby('miss_total').agg(\n",
    "        median=('rel_los', 'median'),\n",
    "        ci95_lower=('rel_los', lambda x: np.percentile(x, 25)),\n",
    "        ci95_upper=('rel_los', lambda x: np.percentile(x, 75)),\n",
    "        count=('rel_los', 'count')\n",
    "    )\n",
    "    grouped = grouped.reset_index()\n",
    "\n",
    "    plt.plot(grouped['miss_total'], grouped['median'], marker='o', markersize=4, markeredgecolor='w', markeredgewidth=0.75, label=disp_type, color=palette[idx])\n",
    "    plt.fill_between(grouped['miss_total'], grouped['ci95_lower'], grouped['ci95_upper'], alpha=0.2, linewidth=0, color=palette[idx])\n",
    "\n",
    "\n",
    "plt.ylim(-6,6)\n",
    "ax.set_yticks(np.arange(-6,6.1,2))\n",
    "plt.xlim(0,4)\n",
    "ax.set_xticks(np.arange(0,5,1))\n",
    "\n",
    "plt.axhline(0, color='black', linewidth=1)\n",
    "plt.grid(linewidth=0.5)\n",
    "plt.xlabel('Misprediction count')\n",
    "plt.ylabel('Relative median length of stay')\n",
    "\n",
    "ncol = 2\n",
    "ybox = 1.25\n",
    "ax.legend(bbox_to_anchor=(0.5, ybox), loc='upper center', frameon=False, handlelength=0.9, ncol=ncol, title='Admitted', columnspacing=0.9)\n",
    "\n",
    "plt.show()"
   ]
  },
  {
   "cell_type": "code",
   "execution_count": 17,
   "metadata": {},
   "outputs": [],
   "source": [
    "def get_stat_per_demo(df_input, is_admitted, demo_type):\n",
    "    if is_admitted:\n",
    "        sub_group = df_input[df_input['outcome_hospitalization'] == 1].copy()\n",
    "    else:\n",
    "        sub_group = df_input[df_input['outcome_hospitalization'] == 0].copy()\n",
    "\n",
    "    sub_group[demo_type] = sub_group[demo_type].astype(str)\n",
    "    median_los_per_acuity = sub_group[sub_group['miss_total'] == 0].groupby(demo_type)['ed_los_hours'].median()\n",
    "    median_los_per_acuity = sub_group[demo_type].map(median_los_per_acuity)\n",
    "    sub_group['rel_los'] = sub_group['ed_los_hours'] - median_los_per_acuity\n",
    "\n",
    "    grouped = sub_group.groupby([demo_type, 'miss_total']).agg(\n",
    "        median=('rel_los', 'median'),\n",
    "        ci95_lower=('rel_los', lambda x: np.percentile(x, 25)),\n",
    "        ci95_upper=('rel_los', lambda x: np.percentile(x, 75)),\n",
    "        count=('rel_los', 'count')\n",
    "    )\n",
    "    grouped = grouped.reset_index()\n",
    "\n",
    "    return grouped\n",
    "\n",
    "def plot_grouped(grouped, is_admitted, demo_type):\n",
    "    fig, ax = plt.subplots(1, 1, figsize=(3,3))\n",
    "    fig.dpi = 600\n",
    "    palette = ['#E69F00', '#56B4E9', '#009E73', '#D55E00', '#CC79A7']\n",
    "    group_labels = sorted(set(grouped[demo_type]))\n",
    "\n",
    "    for idx, label_id in enumerate(group_labels):\n",
    "        sub_group = grouped[grouped[demo_type] == label_id]\n",
    "        plt.plot(sub_group['miss_total'], sub_group['median'], color=palette[idx], marker='o', markersize=4, markeredgecolor='w', markeredgewidth=0.75, label=label_id)\n",
    "        plt.fill_between(sub_group['miss_total'], sub_group['ci95_lower'], sub_group['ci95_upper'], color=palette[idx], alpha=0.2, linewidth=0)\n",
    "\n",
    "    plt.ylim(-6,6)\n",
    "    ax.set_yticks(np.arange(-6,6.1,2))\n",
    "    plt.xlim(0,4)\n",
    "    ax.set_xticks(np.arange(0,5,1))\n",
    "    plt.grid(linewidth=0.5)\n",
    "    plt.axhline(0, color='black', linewidth=1)\n",
    "    plt.xlabel('Misprediction count')\n",
    "    plt.ylabel('Relative median length of stay')\n",
    "\n",
    "    if demo_type == 'triage_acuity':\n",
    "        ncol = 5\n",
    "        ybox = 1.25\n",
    "    elif demo_type == 'age_group':\n",
    "        ncol = 3\n",
    "        ybox = 1.35\n",
    "    elif demo_type == 'gender':\n",
    "        ncol = 2\n",
    "        ybox = 1.25\n",
    "    elif demo_type == 'ethnicity':\n",
    "        ncol = 3\n",
    "        ybox = 1.35\n",
    "    elif demo_type == 'CCI_Group':\n",
    "        ncol = 2\n",
    "        ybox = 1.35\n",
    "    else:\n",
    "        ncol = 1\n",
    "        ybox = 1.25\n",
    "    ax.legend(bbox_to_anchor=(0.5, ybox), loc='upper center', frameon=False, handlelength=0.9, ncol=ncol, title=demo_type, columnspacing=0.9)\n",
    "\n",
    "    plt.show()"
   ]
  },
  {
   "cell_type": "code",
   "execution_count": null,
   "metadata": {},
   "outputs": [],
   "source": [
    "is_admitted = False\n",
    "\n",
    "for demo_type in ['triage_acuity', 'age_group', 'gender', 'ethnicity', 'CCI_Group']:\n",
    "    grouped = get_stat_per_demo(merged_df, is_admitted, demo_type)\n",
    "    grouped.dropna(inplace=True)\n",
    "    plot_grouped(grouped, is_admitted, demo_type)"
   ]
  },
  {
   "cell_type": "code",
   "execution_count": null,
   "metadata": {},
   "outputs": [],
   "source": [
    "is_admitted = True\n",
    "\n",
    "for demo_type in ['triage_acuity', 'age_group', 'gender', 'ethnicity', 'CCI_Group']:\n",
    "    grouped = get_stat_per_demo(merged_df, is_admitted, demo_type)\n",
    "    grouped.dropna(inplace=True)\n",
    "    plot_grouped(grouped, is_admitted, demo_type)"
   ]
  }
 ],
 "metadata": {
  "kernelspec": {
   "display_name": "base",
   "language": "python",
   "name": "python3"
  },
  "language_info": {
   "codemirror_mode": {
    "name": "ipython",
    "version": 3
   },
   "file_extension": ".py",
   "mimetype": "text/x-python",
   "name": "python",
   "nbconvert_exporter": "python",
   "pygments_lexer": "ipython3",
   "version": "3.9.12"
  }
 },
 "nbformat": 4,
 "nbformat_minor": 2
}
